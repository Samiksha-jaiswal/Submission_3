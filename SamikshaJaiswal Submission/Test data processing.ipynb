{
 "cells": [
  {
   "cell_type": "code",
   "execution_count": 1,
   "id": "c06efef6",
   "metadata": {},
   "outputs": [],
   "source": [
    "import pandas as pd\n",
    "import numpy as np\n",
    "import matplotlib.pyplot as plt\n",
    "import seaborn as sns\n",
    "sns.set()\n",
    "pd.set_option('display.max_rows', 500)"
   ]
  },
  {
   "cell_type": "code",
   "execution_count": 2,
   "id": "43ac09a9",
   "metadata": {},
   "outputs": [],
   "source": [
    "df = pd.read_csv('test.csv')"
   ]
  },
  {
   "cell_type": "code",
   "execution_count": 3,
   "id": "9c4fb538",
   "metadata": {},
   "outputs": [
    {
     "data": {
      "text/plain": [
       "(1459, 80)"
      ]
     },
     "execution_count": 3,
     "metadata": {},
     "output_type": "execute_result"
    }
   ],
   "source": [
    "df.shape"
   ]
  },
  {
   "cell_type": "markdown",
   "id": "66445638",
   "metadata": {},
   "source": [
    "# data cleaning"
   ]
  },
  {
   "cell_type": "code",
   "execution_count": 4,
   "id": "b713a25f",
   "metadata": {},
   "outputs": [
    {
     "name": "stdout",
     "output_type": "stream",
     "text": [
      "<class 'pandas.core.frame.DataFrame'>\n",
      "RangeIndex: 1459 entries, 0 to 1458\n",
      "Data columns (total 80 columns):\n",
      " #   Column         Non-Null Count  Dtype  \n",
      "---  ------         --------------  -----  \n",
      " 0   Id             1459 non-null   int64  \n",
      " 1   MSSubClass     1459 non-null   int64  \n",
      " 2   MSZoning       1455 non-null   object \n",
      " 3   LotFrontage    1232 non-null   float64\n",
      " 4   LotArea        1459 non-null   int64  \n",
      " 5   Street         1459 non-null   object \n",
      " 6   Alley          107 non-null    object \n",
      " 7   LotShape       1459 non-null   object \n",
      " 8   LandContour    1459 non-null   object \n",
      " 9   Utilities      1457 non-null   object \n",
      " 10  LotConfig      1459 non-null   object \n",
      " 11  LandSlope      1459 non-null   object \n",
      " 12  Neighborhood   1459 non-null   object \n",
      " 13  Condition1     1459 non-null   object \n",
      " 14  Condition2     1459 non-null   object \n",
      " 15  BldgType       1459 non-null   object \n",
      " 16  HouseStyle     1459 non-null   object \n",
      " 17  OverallQual    1459 non-null   int64  \n",
      " 18  OverallCond    1459 non-null   int64  \n",
      " 19  YearBuilt      1459 non-null   int64  \n",
      " 20  YearRemodAdd   1459 non-null   int64  \n",
      " 21  RoofStyle      1459 non-null   object \n",
      " 22  RoofMatl       1459 non-null   object \n",
      " 23  Exterior1st    1458 non-null   object \n",
      " 24  Exterior2nd    1458 non-null   object \n",
      " 25  MasVnrType     1443 non-null   object \n",
      " 26  MasVnrArea     1444 non-null   float64\n",
      " 27  ExterQual      1459 non-null   object \n",
      " 28  ExterCond      1459 non-null   object \n",
      " 29  Foundation     1459 non-null   object \n",
      " 30  BsmtQual       1415 non-null   object \n",
      " 31  BsmtCond       1414 non-null   object \n",
      " 32  BsmtExposure   1415 non-null   object \n",
      " 33  BsmtFinType1   1417 non-null   object \n",
      " 34  BsmtFinSF1     1458 non-null   float64\n",
      " 35  BsmtFinType2   1417 non-null   object \n",
      " 36  BsmtFinSF2     1458 non-null   float64\n",
      " 37  BsmtUnfSF      1458 non-null   float64\n",
      " 38  TotalBsmtSF    1458 non-null   float64\n",
      " 39  Heating        1459 non-null   object \n",
      " 40  HeatingQC      1459 non-null   object \n",
      " 41  CentralAir     1459 non-null   object \n",
      " 42  Electrical     1459 non-null   object \n",
      " 43  1stFlrSF       1459 non-null   int64  \n",
      " 44  2ndFlrSF       1459 non-null   int64  \n",
      " 45  LowQualFinSF   1459 non-null   int64  \n",
      " 46  GrLivArea      1459 non-null   int64  \n",
      " 47  BsmtFullBath   1457 non-null   float64\n",
      " 48  BsmtHalfBath   1457 non-null   float64\n",
      " 49  FullBath       1459 non-null   int64  \n",
      " 50  HalfBath       1459 non-null   int64  \n",
      " 51  BedroomAbvGr   1459 non-null   int64  \n",
      " 52  KitchenAbvGr   1459 non-null   int64  \n",
      " 53  KitchenQual    1458 non-null   object \n",
      " 54  TotRmsAbvGrd   1459 non-null   int64  \n",
      " 55  Functional     1457 non-null   object \n",
      " 56  Fireplaces     1459 non-null   int64  \n",
      " 57  FireplaceQu    729 non-null    object \n",
      " 58  GarageType     1383 non-null   object \n",
      " 59  GarageYrBlt    1381 non-null   float64\n",
      " 60  GarageFinish   1381 non-null   object \n",
      " 61  GarageCars     1458 non-null   float64\n",
      " 62  GarageArea     1458 non-null   float64\n",
      " 63  GarageQual     1381 non-null   object \n",
      " 64  GarageCond     1381 non-null   object \n",
      " 65  PavedDrive     1459 non-null   object \n",
      " 66  WoodDeckSF     1459 non-null   int64  \n",
      " 67  OpenPorchSF    1459 non-null   int64  \n",
      " 68  EnclosedPorch  1459 non-null   int64  \n",
      " 69  3SsnPorch      1459 non-null   int64  \n",
      " 70  ScreenPorch    1459 non-null   int64  \n",
      " 71  PoolArea       1459 non-null   int64  \n",
      " 72  PoolQC         3 non-null      object \n",
      " 73  Fence          290 non-null    object \n",
      " 74  MiscFeature    51 non-null     object \n",
      " 75  MiscVal        1459 non-null   int64  \n",
      " 76  MoSold         1459 non-null   int64  \n",
      " 77  YrSold         1459 non-null   int64  \n",
      " 78  SaleType       1458 non-null   object \n",
      " 79  SaleCondition  1459 non-null   object \n",
      "dtypes: float64(11), int64(26), object(43)\n",
      "memory usage: 912.0+ KB\n"
     ]
    }
   ],
   "source": [
    "df.info()"
   ]
  },
  {
   "cell_type": "code",
   "execution_count": 5,
   "id": "c716b73b",
   "metadata": {},
   "outputs": [
    {
     "data": {
      "text/plain": [
       "<AxesSubplot:>"
      ]
     },
     "execution_count": 5,
     "metadata": {},
     "output_type": "execute_result"
    },
    {
     "data": {
      "image/png": "[encoded data removed]",
      "text/plain": [
       "<Figure size 432x288 with 2 Axes>"
      ]
     },
     "metadata": {},
     "output_type": "display_data"
    }
   ],
   "source": [
    "sns.heatmap(df.isnull(), yticklabels=False)"
   ]
  },
  {
   "cell_type": "code",
   "execution_count": 6,
   "id": "2ff8acc7",
   "metadata": {},
   "outputs": [
    {
     "data": {
      "text/plain": [
       "Id                  0\n",
       "MSSubClass          0\n",
       "MSZoning            4\n",
       "LotFrontage       227\n",
       "LotArea             0\n",
       "Street              0\n",
       "Alley            1352\n",
       "LotShape            0\n",
       "LandContour         0\n",
       "Utilities           2\n",
       "LotConfig           0\n",
       "LandSlope           0\n",
       "Neighborhood        0\n",
       "Condition1          0\n",
       "Condition2          0\n",
       "BldgType            0\n",
       "HouseStyle          0\n",
       "OverallQual         0\n",
       "OverallCond         0\n",
       "YearBuilt           0\n",
       "YearRemodAdd        0\n",
       "RoofStyle           0\n",
       "RoofMatl            0\n",
       "Exterior1st         1\n",
       "Exterior2nd         1\n",
       "MasVnrType         16\n",
       "MasVnrArea         15\n",
       "ExterQual           0\n",
       "ExterCond           0\n",
       "Foundation          0\n",
       "BsmtQual           44\n",
       "BsmtCond           45\n",
       "BsmtExposure       44\n",
       "BsmtFinType1       42\n",
       "BsmtFinSF1          1\n",
       "BsmtFinType2       42\n",
       "BsmtFinSF2          1\n",
       "BsmtUnfSF           1\n",
       "TotalBsmtSF         1\n",
       "Heating             0\n",
       "HeatingQC           0\n",
       "CentralAir          0\n",
       "Electrical          0\n",
       "1stFlrSF            0\n",
       "2ndFlrSF            0\n",
       "LowQualFinSF        0\n",
       "GrLivArea           0\n",
       "BsmtFullBath        2\n",
       "BsmtHalfBath        2\n",
       "FullBath            0\n",
       "HalfBath            0\n",
       "BedroomAbvGr        0\n",
       "KitchenAbvGr        0\n",
       "KitchenQual         1\n",
       "TotRmsAbvGrd        0\n",
       "Functional          2\n",
       "Fireplaces          0\n",
       "FireplaceQu       730\n",
       "GarageType         76\n",
       "GarageYrBlt        78\n",
       "GarageFinish       78\n",
       "GarageCars          1\n",
       "GarageArea          1\n",
       "GarageQual         78\n",
       "GarageCond         78\n",
       "PavedDrive          0\n",
       "WoodDeckSF          0\n",
       "OpenPorchSF         0\n",
       "EnclosedPorch       0\n",
       "3SsnPorch           0\n",
       "ScreenPorch         0\n",
       "PoolArea            0\n",
       "PoolQC           1456\n",
       "Fence            1169\n",
       "MiscFeature      1408\n",
       "MiscVal             0\n",
       "MoSold              0\n",
       "YrSold              0\n",
       "SaleType            1\n",
       "SaleCondition       0\n",
       "dtype: int64"
      ]
     },
     "execution_count": 6,
     "metadata": {},
     "output_type": "execute_result"
    }
   ],
   "source": [
    "df.isnull().sum()"
   ]
  },
  {
   "cell_type": "code",
   "execution_count": 7,
   "id": "19256a2a",
   "metadata": {},
   "outputs": [
    {
     "data": {
      "text/plain": [
       "80"
      ]
     },
     "execution_count": 7,
     "metadata": {},
     "output_type": "execute_result"
    }
   ],
   "source": [
    "cols = df.columns\n",
    "len(cols)"
   ]
  },
  {
   "cell_type": "code",
   "execution_count": 8,
   "id": "5ca6c436",
   "metadata": {},
   "outputs": [],
   "source": [
    "cols_na= []\n",
    "for i in cols:\n",
    "    if(df[i].isnull().any()==True):\n",
    "        cols_na.append(i)"
   ]
  },
  {
   "cell_type": "code",
   "execution_count": 9,
   "id": "8f688285",
   "metadata": {},
   "outputs": [
    {
     "data": {
      "text/plain": [
       "['MSZoning',\n",
       " 'LotFrontage',\n",
       " 'Alley',\n",
       " 'Utilities',\n",
       " 'Exterior1st',\n",
       " 'Exterior2nd',\n",
       " 'MasVnrType',\n",
       " 'MasVnrArea',\n",
       " 'BsmtQual',\n",
       " 'BsmtCond',\n",
       " 'BsmtExposure',\n",
       " 'BsmtFinType1',\n",
       " 'BsmtFinSF1',\n",
       " 'BsmtFinType2',\n",
       " 'BsmtFinSF2',\n",
       " 'BsmtUnfSF',\n",
       " 'TotalBsmtSF',\n",
       " 'BsmtFullBath',\n",
       " 'BsmtHalfBath',\n",
       " 'KitchenQual',\n",
       " 'Functional',\n",
       " 'FireplaceQu',\n",
       " 'GarageType',\n",
       " 'GarageYrBlt',\n",
       " 'GarageFinish',\n",
       " 'GarageCars',\n",
       " 'GarageArea',\n",
       " 'GarageQual',\n",
       " 'GarageCond',\n",
       " 'PoolQC',\n",
       " 'Fence',\n",
       " 'MiscFeature',\n",
       " 'SaleType']"
      ]
     },
     "execution_count": 9,
     "metadata": {},
     "output_type": "execute_result"
    }
   ],
   "source": [
    "cols_na"
   ]
  },
  {
   "cell_type": "code",
   "execution_count": 10,
   "id": "9e182c16",
   "metadata": {},
   "outputs": [
    {
     "name": "stdout",
     "output_type": "stream",
     "text": [
      "MSZoning \t 4 \t object\n",
      "LotFrontage \t 227 \t float64\n",
      "Alley \t 1352 \t object\n",
      "Utilities \t 2 \t object\n",
      "Exterior1st \t 1 \t object\n",
      "Exterior2nd \t 1 \t object\n",
      "MasVnrType \t 16 \t object\n",
      "MasVnrArea \t 15 \t float64\n",
      "BsmtQual \t 44 \t object\n",
      "BsmtCond \t 45 \t object\n",
      "BsmtExposure \t 44 \t object\n",
      "BsmtFinType1 \t 42 \t object\n",
      "BsmtFinSF1 \t 1 \t float64\n",
      "BsmtFinType2 \t 42 \t object\n",
      "BsmtFinSF2 \t 1 \t float64\n",
      "BsmtUnfSF \t 1 \t float64\n",
      "TotalBsmtSF \t 1 \t float64\n",
      "BsmtFullBath \t 2 \t float64\n",
      "BsmtHalfBath \t 2 \t float64\n",
      "KitchenQual \t 1 \t object\n",
      "Functional \t 2 \t object\n",
      "FireplaceQu \t 730 \t object\n",
      "GarageType \t 76 \t object\n",
      "GarageYrBlt \t 78 \t float64\n",
      "GarageFinish \t 78 \t object\n",
      "GarageCars \t 1 \t float64\n",
      "GarageArea \t 1 \t float64\n",
      "GarageQual \t 78 \t object\n",
      "GarageCond \t 78 \t object\n",
      "PoolQC \t 1456 \t object\n",
      "Fence \t 1169 \t object\n",
      "MiscFeature \t 1408 \t object\n",
      "SaleType \t 1 \t object\n"
     ]
    }
   ],
   "source": [
    "for i in cols_na:\n",
    "    print(i,'\\t', df[i].isnull().sum(),'\\t',df[i].dtype)"
   ]
  },
  {
   "cell_type": "code",
   "execution_count": 11,
   "id": "f21edd04",
   "metadata": {},
   "outputs": [],
   "source": [
    "df['LotFrontage']=df['LotFrontage'].fillna(df['LotFrontage'].mean())"
   ]
  },
  {
   "cell_type": "code",
   "execution_count": 12,
   "id": "18173397",
   "metadata": {},
   "outputs": [],
   "source": [
    "# Alley: Type of alley access to property\n",
    "\n",
    "#        Grvl\tGravel\n",
    "#        Pave\tPaved\n",
    "#        NA \tNo alley access\n",
    "\n",
    "df['Alley']=df['Alley'].fillna(\"No_alley\")"
   ]
  },
  {
   "cell_type": "code",
   "execution_count": 13,
   "id": "4ab8e2cb",
   "metadata": {},
   "outputs": [],
   "source": [
    "df['MasVnrType']=df['MasVnrType'].fillna(df['MasVnrType'].mode()[0])"
   ]
  },
  {
   "cell_type": "code",
   "execution_count": 14,
   "id": "e568d691",
   "metadata": {},
   "outputs": [],
   "source": [
    "df['MasVnrArea']=df['MasVnrArea'].fillna(df['MasVnrArea'].mean())"
   ]
  },
  {
   "cell_type": "code",
   "execution_count": 15,
   "id": "7ed1777e",
   "metadata": {},
   "outputs": [],
   "source": [
    "# BsmtQual: Evaluates the height of the basement\n",
    "\n",
    "#        Ex\tExcellent (100+ inches)\t\n",
    "#        Gd\tGood (90-99 inches)\n",
    "#        TA\tTypical (80-89 inches)\n",
    "#        Fa\tFair (70-79 inches)\n",
    "#        Po\tPoor (<70 inches)\n",
    "#        NA\tNo Basement\n",
    "df['BsmtQual']=df['BsmtQual'].fillna(\"No_Basement\")"
   ]
  },
  {
   "cell_type": "code",
   "execution_count": 16,
   "id": "75e3e241",
   "metadata": {},
   "outputs": [],
   "source": [
    "# BsmtCond: Evaluates the general condition of the basement\n",
    "\n",
    "#        Ex\tExcellent\n",
    "#        Gd\tGood\n",
    "#        TA\tTypical - slight dampness allowed\n",
    "#        Fa\tFair - dampness or some cracking or settling\n",
    "#        Po\tPoor - Severe cracking, settling, or wetness\n",
    "#        NA\tNo Basement\n",
    "df['BsmtCond']=df['BsmtCond'].fillna(\"No_Basement\")"
   ]
  },
  {
   "cell_type": "code",
   "execution_count": 17,
   "id": "411d8877",
   "metadata": {},
   "outputs": [],
   "source": [
    "# BsmtExposure: Refers to walkout or garden level walls\n",
    "\n",
    "#        Gd\tGood Exposure\n",
    "#        Av\tAverage Exposure (split levels or foyers typically score average or above)\t\n",
    "#        Mn\tMimimum Exposure\n",
    "#        No\tNo Exposure\n",
    "#        NA\tNo Basement\n",
    "df['BsmtExposure']=df['BsmtExposure'].fillna(\"No_Basement\")"
   ]
  },
  {
   "cell_type": "code",
   "execution_count": 18,
   "id": "58ca13de",
   "metadata": {},
   "outputs": [],
   "source": [
    "df['BsmtFinType1']=df['BsmtFinType1'].fillna(\"No_Basement\")\n",
    "df['BsmtFinType2']=df['BsmtFinType2'].fillna(\"No_Basement\")"
   ]
  },
  {
   "cell_type": "code",
   "execution_count": 19,
   "id": "b9fdf69c",
   "metadata": {},
   "outputs": [],
   "source": [
    "df['Electrical']=df['Electrical'].fillna(df['Electrical'].mode()[0])"
   ]
  },
  {
   "cell_type": "code",
   "execution_count": 20,
   "id": "1870d9c0",
   "metadata": {},
   "outputs": [],
   "source": [
    "# FireplaceQu: Fireplace quality\n",
    "\n",
    "#        Ex\tExcellent - Exceptional Masonry Fireplace\n",
    "#        Gd\tGood - Masonry Fireplace in main level\n",
    "#        TA\tAverage - Prefabricated Fireplace in main living area or Masonry Fireplace in basement\n",
    "#        Fa\tFair - Prefabricated Fireplace in basement\n",
    "#        Po\tPoor - Ben Franklin Stove\n",
    "#        NA\tNo Fireplace\n",
    "df['FireplaceQu']=df['FireplaceQu'].fillna(\"No_Fireplace\")"
   ]
  },
  {
   "cell_type": "code",
   "execution_count": 21,
   "id": "97ae6677",
   "metadata": {},
   "outputs": [],
   "source": [
    "# GarageType: Garage location\n",
    "\t\t\n",
    "#        2Types\tMore than one type of garage\n",
    "#        Attchd\tAttached to home\n",
    "#        Basment\tBasement Garage\n",
    "#        BuiltIn\tBuilt-In (Garage part of house - typically has room above garage)\n",
    "#        CarPort\tCar Port\n",
    "#        Detchd\tDetached from home\n",
    "#        NA\tNo Garage\n",
    "df['GarageType']=df['GarageType'].fillna(\"No_Garage\")"
   ]
  },
  {
   "cell_type": "code",
   "execution_count": 22,
   "id": "254d7f74",
   "metadata": {},
   "outputs": [],
   "source": [
    "df['GarageYrBlt']=df['GarageYrBlt'].fillna(df['GarageYrBlt'].mode()[0])"
   ]
  },
  {
   "cell_type": "code",
   "execution_count": 23,
   "id": "da555851",
   "metadata": {},
   "outputs": [],
   "source": [
    "df['GarageQual']=df['GarageQual'].fillna(\"No_Garage\")"
   ]
  },
  {
   "cell_type": "code",
   "execution_count": 24,
   "id": "616f9fd6",
   "metadata": {},
   "outputs": [],
   "source": [
    "df['GarageCond']=df['GarageCond'].fillna(\"No_Garage\")"
   ]
  },
  {
   "cell_type": "code",
   "execution_count": 25,
   "id": "aa3d350e",
   "metadata": {},
   "outputs": [],
   "source": [
    "df['GarageFinish']=df['GarageFinish'].fillna(\"No_Garage\")"
   ]
  },
  {
   "cell_type": "code",
   "execution_count": 26,
   "id": "a0577c30",
   "metadata": {},
   "outputs": [],
   "source": [
    "# PoolQC: Pool quality\n",
    "\t\t\n",
    "#        Ex\tExcellent\n",
    "#        Gd\tGood\n",
    "#        TA\tAverage/Typical\n",
    "#        Fa\tFair\n",
    "#        NA\tNo Pool\n",
    "df['PoolQC']=df['PoolQC'].fillna(\"No_Pool\")"
   ]
  },
  {
   "cell_type": "code",
   "execution_count": 27,
   "id": "0aaee7d9",
   "metadata": {},
   "outputs": [],
   "source": [
    "df['Fence']=df['Fence'].fillna(\"No_Fence\")"
   ]
  },
  {
   "cell_type": "code",
   "execution_count": 28,
   "id": "04df02ee",
   "metadata": {},
   "outputs": [],
   "source": [
    "# MiscFeature: Miscellaneous feature not covered in other categories\n",
    "\t\t\n",
    "#        Elev\tElevator\n",
    "#        Gar2\t2nd Garage (if not described in garage section)\n",
    "#        Othr\tOther\n",
    "#        Shed\tShed (over 100 SF)\n",
    "#        TenC\tTennis Court\n",
    "#        NA\tNone\n",
    "\n",
    "df['MiscFeature']=df['MiscFeature'].fillna(\"None\")"
   ]
  },
  {
   "cell_type": "code",
   "execution_count": 29,
   "id": "2206b364",
   "metadata": {},
   "outputs": [],
   "source": [
    "df['MSZoning']=df['MSZoning'].fillna(df['MSZoning'].mode()[0])"
   ]
  },
  {
   "cell_type": "code",
   "execution_count": 30,
   "id": "9df37891",
   "metadata": {},
   "outputs": [],
   "source": [
    "df['Utilities']=df['Utilities'].fillna(df['Utilities'].mode()[0])"
   ]
  },
  {
   "cell_type": "code",
   "execution_count": 31,
   "id": "84d155d1",
   "metadata": {},
   "outputs": [],
   "source": [
    "df['Exterior1st']=df['Exterior1st'].fillna(df['Exterior1st'].mode()[0])\n",
    "df['Exterior2nd']=df['Exterior2nd'].fillna(df['Exterior2nd'].mode()[0])"
   ]
  },
  {
   "cell_type": "code",
   "execution_count": 32,
   "id": "94af32d7",
   "metadata": {},
   "outputs": [],
   "source": [
    "df['BsmtFinSF1']=df['BsmtFinSF1'].fillna(df['BsmtFinSF1'].mean())\n",
    "df['BsmtFinSF2']=df['BsmtFinSF2'].fillna(df['BsmtFinSF2'].mean())"
   ]
  },
  {
   "cell_type": "code",
   "execution_count": 33,
   "id": "4c9ab768",
   "metadata": {},
   "outputs": [],
   "source": [
    "df['BsmtUnfSF']=df['BsmtUnfSF'].fillna(df['BsmtUnfSF'].mean())\n",
    "df['TotalBsmtSF']=df['TotalBsmtSF'].fillna(df['TotalBsmtSF'].mean())\n",
    "df['BsmtFullBath']=df['BsmtFullBath'].fillna(df['BsmtFullBath'].mean())\n",
    "df['BsmtHalfBath']=df['BsmtHalfBath'].fillna(df['BsmtHalfBath'].mean())"
   ]
  },
  {
   "cell_type": "code",
   "execution_count": 34,
   "id": "9163fce1",
   "metadata": {},
   "outputs": [],
   "source": [
    "df['KitchenQual']=df['KitchenQual'].fillna(df['KitchenQual'].mode()[0])"
   ]
  },
  {
   "cell_type": "code",
   "execution_count": 35,
   "id": "3c39635c",
   "metadata": {},
   "outputs": [],
   "source": [
    "df['Functional']=df['Functional'].fillna(df['Functional'].mode()[0])"
   ]
  },
  {
   "cell_type": "code",
   "execution_count": 36,
   "id": "2c12dc1c",
   "metadata": {},
   "outputs": [],
   "source": [
    "df['GarageCars']=df['GarageCars'].fillna(df['GarageCars'].mean())\n",
    "df['GarageArea']=df['GarageArea'].fillna(df['GarageArea'].mean())"
   ]
  },
  {
   "cell_type": "code",
   "execution_count": 37,
   "id": "9155caf3",
   "metadata": {},
   "outputs": [],
   "source": [
    "df['SaleType']=df['SaleType'].fillna(df['SaleType'].mode()[0])"
   ]
  },
  {
   "cell_type": "code",
   "execution_count": 38,
   "id": "b282a6ff",
   "metadata": {},
   "outputs": [
    {
     "data": {
      "text/plain": [
       "<AxesSubplot:>"
      ]
     },
     "execution_count": 38,
     "metadata": {},
     "output_type": "execute_result"
    },
    {
     "data": {
      "image/png": "[encoded data removed]",
      "text/plain": [
       "<Figure size 432x288 with 2 Axes>"
      ]
     },
     "metadata": {},
     "output_type": "display_data"
    }
   ],
   "source": [
    "sns.heatmap(df.isnull(), yticklabels=False)"
   ]
  },
  {
   "cell_type": "code",
   "execution_count": 41,
   "id": "65604c62",
   "metadata": {},
   "outputs": [],
   "source": [
    "df.drop(['Id'],axis=1,inplace=True)"
   ]
  },
  {
   "cell_type": "code",
   "execution_count": 42,
   "id": "53733618",
   "metadata": {},
   "outputs": [
    {
     "data": {
      "text/plain": [
       "(1459, 79)"
      ]
     },
     "execution_count": 42,
     "metadata": {},
     "output_type": "execute_result"
    }
   ],
   "source": [
    "df.shape"
   ]
  },
  {
   "cell_type": "code",
   "execution_count": null,
   "id": "e06a95f0",
   "metadata": {},
   "outputs": [],
   "source": []
  },
  {
   "cell_type": "code",
   "execution_count": 43,
   "id": "9866fdf2",
   "metadata": {},
   "outputs": [],
   "source": [
    "df.to_csv('test_processed.csv',index=False)"
   ]
  },
  {
   "cell_type": "code",
   "execution_count": null,
   "id": "e94b2f99",
   "metadata": {},
   "outputs": [],
   "source": []
  }
 ],
 "metadata": {
  "kernelspec": {
   "display_name": "Python 3",
   "language": "python",
   "name": "python3"
  },
  "language_info": {
   "codemirror_mode": {
    "name": "ipython",
    "version": 3
   },
   "file_extension": ".py",
   "mimetype": "text/x-python",
   "name": "python",
   "nbconvert_exporter": "python",
   "pygments_lexer": "ipython3",
   "version": "3.8.8"
  }
 },
 "nbformat": 4,
 "nbformat_minor": 5
}
